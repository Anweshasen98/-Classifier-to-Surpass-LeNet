{
  "nbformat": 4,
  "nbformat_minor": 0,
  "metadata": {
    "colab": {
      "provenance": [],
      "machine_shape": "hm",
      "include_colab_link": true
    },
    "kernelspec": {
      "name": "python3",
      "display_name": "Python 3"
    },
    "language_info": {
      "name": "python"
    },
    "accelerator": "GPU",
    "gpuClass": "standard"
  },
  "cells": [
    {
      "cell_type": "markdown",
      "metadata": {
        "id": "view-in-github",
        "colab_type": "text"
      },
      "source": [
        "<a href=\"https://colab.research.google.com/github/Anweshasen98/-Classifier-to-Surpass-LeNet/blob/main/Custom_MNIST_Classifier_that_beat_LeNet.ipynb\" target=\"_parent\"><img src=\"https://colab.research.google.com/assets/colab-badge.svg\" alt=\"Open In Colab\"/></a>"
      ]
    },
    {
      "cell_type": "markdown",
      "source": [
        "#Custom MNIST Classifier that beat LeNet.ipynb\n",
        "\n",
        "*   List item\n",
        "*   List item\n",
        "\n"
      ],
      "metadata": {
        "id": "qDbXGWIGiAXk"
      }
    },
    {
      "cell_type": "code",
      "source": [
        "import tensorflow as tf\n"
      ],
      "metadata": {
        "id": "D2mY6ZJqiDX7"
      },
      "execution_count": null,
      "outputs": []
    },
    {
      "cell_type": "code",
      "source": [
        "# load the MNIST dataset\n",
        "(X_train, y_train), (X_test, y_test) = tf.keras.datasets.mnist.load_data()"
      ],
      "metadata": {
        "colab": {
          "base_uri": "https://localhost:8080/"
        },
        "id": "DR9xsXbviDjt",
        "outputId": "2716d2f0-fbec-4d7b-9697-739fb38ff871"
      },
      "execution_count": null,
      "outputs": [
        {
          "output_type": "stream",
          "name": "stdout",
          "text": [
            "Downloading data from https://storage.googleapis.com/tensorflow/tf-keras-datasets/mnist.npz\n",
            "11490434/11490434 [==============================] - 0s 0us/step\n"
          ]
        }
      ]
    },
    {
      "cell_type": "code",
      "source": [
        "X_train, X_test = X_train / 255.0, X_test / 255.0"
      ],
      "metadata": {
        "id": "6JLD5G39iDnV"
      },
      "execution_count": null,
      "outputs": []
    },
    {
      "cell_type": "code",
      "source": [
        "#from keras.utils import to_categorical\n",
        "\n",
        "# Convert labels to categorical format\n",
        "\n",
        "#y_train = to_categorical(y_train,10)\n",
        "#y_test = to_categorical(y_test,10)"
      ],
      "metadata": {
        "id": "SWLC13p6rJ7j"
      },
      "execution_count": null,
      "outputs": []
    },
    {
      "cell_type": "code",
      "source": [
        "\n",
        "class myCallback(tf.keras.callbacks.Callback):\n",
        "  def on_epoch_end(self, epoch, logs={}):\n",
        "    if(logs.get(\"accuracy\")> ACCURACY_THRESHOLD):\n",
        "      print(\"\\nReached %2.2f%% accuracy so cancelling training!\" % (ACCURACY_THRESHOLD*100))\n",
        "      self.model.stop_training = True"
      ],
      "metadata": {
        "id": "vtTnMJHMrMAg"
      },
      "execution_count": null,
      "outputs": []
    },
    {
      "cell_type": "code",
      "source": [
        "callbacks = myCallback()"
      ],
      "metadata": {
        "id": "IdxbP96trMDQ"
      },
      "execution_count": null,
      "outputs": []
    },
    {
      "cell_type": "code",
      "source": [
        "# define the model\n",
        "model = tf.keras.models.Sequential([\n",
        "    tf.keras.layers.Conv2D(filters=32, kernel_size=(3, 3), activation='relu', input_shape=(28, 28, 1)),\n",
        "    tf.keras.layers.MaxPooling2D(pool_size=(2, 2)),\n",
        "\n",
        "    tf.keras.layers.Conv2D(filters=64, kernel_size=(3, 3), activation='relu'),\n",
        "    tf.keras.layers.MaxPooling2D(pool_size=(2, 2)),\n",
        "\n",
        "    tf.keras.layers.Flatten(),\n",
        "\n",
        "    tf.keras.layers.Dense(units=100, activation='relu'),\n",
        "    tf.keras.layers.Dropout(0.5),\n",
        "    tf.keras.layers.Dense(units=10, activation='softmax')\n",
        "])"
      ],
      "metadata": {
        "id": "qw1_KpVSrMGA"
      },
      "execution_count": null,
      "outputs": []
    },
    {
      "cell_type": "code",
      "source": [
        "model.summary()"
      ],
      "metadata": {
        "colab": {
          "base_uri": "https://localhost:8080/"
        },
        "id": "x9Kp71W6rMId",
        "outputId": "9d6f524a-9891-4ac9-8bd1-c7a5dc99f873"
      },
      "execution_count": null,
      "outputs": [
        {
          "output_type": "stream",
          "name": "stdout",
          "text": [
            "Model: \"sequential\"\n",
            "_________________________________________________________________\n",
            " Layer (type)                Output Shape              Param #   \n",
            "=================================================================\n",
            " conv2d (Conv2D)             (None, 26, 26, 32)        320       \n",
            "                                                                 \n",
            " max_pooling2d (MaxPooling2D  (None, 13, 13, 32)       0         \n",
            " )                                                               \n",
            "                                                                 \n",
            " conv2d_1 (Conv2D)           (None, 11, 11, 64)        18496     \n",
            "                                                                 \n",
            " max_pooling2d_1 (MaxPooling  (None, 5, 5, 64)         0         \n",
            " 2D)                                                             \n",
            "                                                                 \n",
            " flatten (Flatten)           (None, 1600)              0         \n",
            "                                                                 \n",
            " dense (Dense)               (None, 100)               160100    \n",
            "                                                                 \n",
            " dropout (Dropout)           (None, 100)               0         \n",
            "                                                                 \n",
            " dense_1 (Dense)             (None, 10)                1010      \n",
            "                                                                 \n",
            "=================================================================\n",
            "Total params: 179,926\n",
            "Trainable params: 179,926\n",
            "Non-trainable params: 0\n",
            "_________________________________________________________________\n"
          ]
        }
      ]
    },
    {
      "cell_type": "code",
      "source": [
        "# compile the model\n",
        "model.compile(optimizer='adam', loss='sparse_categorical_crossentropy',\n",
        "              metrics=['accuracy'])\n"
      ],
      "metadata": {
        "id": "cQ2oscrUrS8L"
      },
      "execution_count": null,
      "outputs": []
    },
    {
      "cell_type": "code",
      "source": [
        "# train the model\n",
        "\n",
        "ACCURACY_THRESHOLD =  .995\n",
        "\n",
        "training = model.fit(X_train, y_train, epochs=100, batch_size= 32 , validation_split=0.1,\n",
        "                     callbacks=[callbacks])"
      ],
      "metadata": {
        "colab": {
          "base_uri": "https://localhost:8080/"
        },
        "id": "bpgG7SMCrS_N",
        "outputId": "af865fba-323f-484c-9c23-8184b60f1c06"
      },
      "execution_count": null,
      "outputs": [
        {
          "output_type": "stream",
          "name": "stdout",
          "text": [
            "Epoch 1/100\n",
            "1688/1688 [==============================] - 16s 4ms/step - loss: 0.2298 - accuracy: 0.9310 - val_loss: 0.0493 - val_accuracy: 0.9840\n",
            "Epoch 2/100\n",
            "1688/1688 [==============================] - 5s 3ms/step - loss: 0.0880 - accuracy: 0.9745 - val_loss: 0.0406 - val_accuracy: 0.9873\n",
            "Epoch 3/100\n",
            "1688/1688 [==============================] - 5s 3ms/step - loss: 0.0658 - accuracy: 0.9804 - val_loss: 0.0316 - val_accuracy: 0.9913\n",
            "Epoch 4/100\n",
            "1688/1688 [==============================] - 5s 3ms/step - loss: 0.0512 - accuracy: 0.9849 - val_loss: 0.0342 - val_accuracy: 0.9910\n",
            "Epoch 5/100\n",
            "1688/1688 [==============================] - 5s 3ms/step - loss: 0.0421 - accuracy: 0.9873 - val_loss: 0.0307 - val_accuracy: 0.9917\n",
            "Epoch 6/100\n",
            "1688/1688 [==============================] - 5s 3ms/step - loss: 0.0380 - accuracy: 0.9877 - val_loss: 0.0325 - val_accuracy: 0.9913\n",
            "Epoch 7/100\n",
            "1688/1688 [==============================] - 5s 3ms/step - loss: 0.0343 - accuracy: 0.9891 - val_loss: 0.0333 - val_accuracy: 0.9920\n",
            "Epoch 8/100\n",
            "1688/1688 [==============================] - 5s 3ms/step - loss: 0.0289 - accuracy: 0.9907 - val_loss: 0.0334 - val_accuracy: 0.9912\n",
            "Epoch 9/100\n",
            "1688/1688 [==============================] - 5s 3ms/step - loss: 0.0266 - accuracy: 0.9919 - val_loss: 0.0340 - val_accuracy: 0.9925\n",
            "Epoch 10/100\n",
            "1688/1688 [==============================] - 5s 3ms/step - loss: 0.0239 - accuracy: 0.9921 - val_loss: 0.0322 - val_accuracy: 0.9943\n",
            "Epoch 11/100\n",
            "1688/1688 [==============================] - 5s 3ms/step - loss: 0.0218 - accuracy: 0.9935 - val_loss: 0.0384 - val_accuracy: 0.9920\n",
            "Epoch 12/100\n",
            "1688/1688 [==============================] - 5s 3ms/step - loss: 0.0211 - accuracy: 0.9934 - val_loss: 0.0300 - val_accuracy: 0.9932\n",
            "Epoch 13/100\n",
            "1688/1688 [==============================] - 5s 3ms/step - loss: 0.0185 - accuracy: 0.9934 - val_loss: 0.0394 - val_accuracy: 0.9907\n",
            "Epoch 14/100\n",
            "1688/1688 [==============================] - 5s 3ms/step - loss: 0.0191 - accuracy: 0.9937 - val_loss: 0.0364 - val_accuracy: 0.9927\n",
            "Epoch 15/100\n",
            "1688/1688 [==============================] - 5s 3ms/step - loss: 0.0172 - accuracy: 0.9945 - val_loss: 0.0382 - val_accuracy: 0.9932\n",
            "Epoch 16/100\n",
            "1688/1688 [==============================] - 5s 3ms/step - loss: 0.0162 - accuracy: 0.9945 - val_loss: 0.0411 - val_accuracy: 0.9925\n",
            "Epoch 17/100\n",
            "1688/1688 [==============================] - 5s 3ms/step - loss: 0.0158 - accuracy: 0.9945 - val_loss: 0.0431 - val_accuracy: 0.9922\n",
            "Epoch 18/100\n",
            "1688/1688 [==============================] - 5s 3ms/step - loss: 0.0155 - accuracy: 0.9948 - val_loss: 0.0441 - val_accuracy: 0.9913\n",
            "Epoch 19/100\n",
            "1686/1688 [============================>.] - ETA: 0s - loss: 0.0146 - accuracy: 0.9952\n",
            "Reached 99.50% accuracy so cancelling training!\n",
            "1688/1688 [==============================] - 5s 3ms/step - loss: 0.0146 - accuracy: 0.9952 - val_loss: 0.0400 - val_accuracy: 0.9928\n"
          ]
        }
      ]
    },
    {
      "cell_type": "markdown",
      "source": [
        "# PERFORMANCE EVALUATION"
      ],
      "metadata": {
        "id": "xW8s7cl4XBq-"
      }
    },
    {
      "cell_type": "code",
      "source": [
        "# Plot Training and Testing curves\n",
        "\n",
        "import matplotlib.pyplot as plt\n",
        "\n",
        "history = training.history\n",
        "\n",
        "def summarize_diagnostics(history):\n",
        "  acc = history['accuracy']\n",
        "  loss = history['loss']\n",
        "  val_acc = history['val_accuracy']\n",
        "  val_loss = history['val_loss']\n",
        "\n",
        "  epochs = range(len(acc))\n",
        "\n",
        "\n",
        "  plt.grid()\n",
        "  plt.plot(acc, 'r', label='Training accuracy')\n",
        "  plt.plot(val_acc, 'b', label='Validation accuracy')\n",
        "  plt.title('Training and validation accuracy')\n",
        "  plt.legend(loc=0)\n",
        "  plt.xlabel('Epoch')\n",
        "  plt.ylabel('Accuracy')\n",
        "  plt.figure()\n",
        "  plt.show()\n",
        "\n",
        "  plt.grid()\n",
        "  plt.plot(loss, 'r', label='Training Loss function')\n",
        "  plt.plot(val_loss, 'b', label='Validation Loss function')\n",
        "  plt.title('Training and validation loss function')\n",
        "  plt.legend(loc=0)\n",
        "  plt.xlabel('Epoch')\n",
        "  plt.ylabel('Loss')\n",
        "  plt.figure()\n",
        "  plt.show()\n",
        "\n",
        "\n",
        "summarize_diagnostics(history)"
      ],
      "metadata": {
        "colab": {
          "base_uri": "https://localhost:8080/",
          "height": 610
        },
        "id": "YwBQ5ibKrTCb",
        "outputId": "c5f9150c-e60d-4077-f106-d3a8a7e79d42"
      },
      "execution_count": null,
      "outputs": [
        {
          "output_type": "display_data",
          "data": {
            "text/plain": [
              "<Figure size 432x288 with 1 Axes>"
            ],
            "image/png": "[encoded data removed]"
          },
          "metadata": {
            "needs_background": "light"
          }
        },
        {
          "output_type": "display_data",
          "data": {
            "text/plain": [
              "<Figure size 432x288 with 0 Axes>"
            ]
          },
          "metadata": {}
        },
        {
          "output_type": "display_data",
          "data": {
            "text/plain": [
              "<Figure size 432x288 with 1 Axes>"
            ],
            "image/png": "[encoded data removed]"
          },
          "metadata": {
            "needs_background": "light"
          }
        },
        {
          "output_type": "display_data",
          "data": {
            "text/plain": [
              "<Figure size 432x288 with 0 Axes>"
            ]
          },
          "metadata": {}
        }
      ]
    },
    {
      "cell_type": "code",
      "source": [
        "loss, accuracy = model.evaluate(X_test, y_test)\n",
        "\n",
        "print(f'Loss : {loss}, \\nAccuracy: {accuracy}')"
      ],
      "metadata": {
        "colab": {
          "base_uri": "https://localhost:8080/"
        },
        "id": "EnTymFudrMME",
        "outputId": "090af77f-99fe-4457-b1d8-cfd89046ff31"
      },
      "execution_count": null,
      "outputs": [
        {
          "output_type": "stream",
          "name": "stdout",
          "text": [
            "313/313 [==============================] - 1s 2ms/step - loss: 0.0353 - accuracy: 0.9927\n",
            "Loss : 0.0353388749063015, \n",
            "Accuracy: 0.9926999807357788\n"
          ]
        }
      ]
    },
    {
      "cell_type": "code",
      "source": [
        "plt.imshow(X_test[0])"
      ],
      "metadata": {
        "colab": {
          "base_uri": "https://localhost:8080/",
          "height": 283
        },
        "id": "5VKWfyE1rdHx",
        "outputId": "48565f2e-d791-4638-dad6-6e048a1ee43f"
      },
      "execution_count": null,
      "outputs": [
        {
          "output_type": "execute_result",
          "data": {
            "text/plain": [
              "<matplotlib.image.AxesImage at 0x7f5a1008ebe0>"
            ]
          },
          "metadata": {},
          "execution_count": 13
        },
        {
          "output_type": "display_data",
          "data": {
            "text/plain": [
              "<Figure size 432x288 with 1 Axes>"
            ],
            "image/png": "[encoded data removed]"
          },
          "metadata": {
            "needs_background": "light"
          }
        }
      ]
    },
    {
      "cell_type": "code",
      "source": [
        "#PREDICT\n",
        "\n",
        "classification = model.predict(X_test)\n",
        "classification[0]"
      ],
      "metadata": {
        "colab": {
          "base_uri": "https://localhost:8080/"
        },
        "id": "pxmd3SD6rew2",
        "outputId": "a2809c7f-6b9a-4a99-f462-066eb5112c98"
      },
      "execution_count": null,
      "outputs": [
        {
          "output_type": "stream",
          "name": "stdout",
          "text": [
            "313/313 [==============================] - 1s 1ms/step\n"
          ]
        },
        {
          "output_type": "execute_result",
          "data": {
            "text/plain": [
              "array([2.8704886e-21, 1.0005698e-20, 1.6300398e-17, 3.8540859e-20,\n",
              "       4.7216670e-23, 5.1195929e-24, 5.4657872e-32, 1.0000000e+00,\n",
              "       2.2455022e-23, 1.3670041e-16], dtype=float32)"
            ]
          },
          "metadata": {},
          "execution_count": 14
        }
      ]
    },
    {
      "cell_type": "code",
      "source": [
        "import numpy as np\n",
        "np.argmax(classification[0])"
      ],
      "metadata": {
        "colab": {
          "base_uri": "https://localhost:8080/"
        },
        "id": "dCMPd-kere0k",
        "outputId": "26f1434b-7290-4a6e-cbb7-66aa13e761a0"
      },
      "execution_count": null,
      "outputs": [
        {
          "output_type": "execute_result",
          "data": {
            "text/plain": [
              "7"
            ]
          },
          "metadata": {},
          "execution_count": 15
        }
      ]
    },
    {
      "cell_type": "code",
      "source": [
        "y_pred = []\n",
        "\n",
        "for i in classification:\n",
        "    y_pred.append(np.argmax(i))\n",
        "\n",
        "y_pred[:5]"
      ],
      "metadata": {
        "colab": {
          "base_uri": "https://localhost:8080/"
        },
        "id": "QSNejN1ZrdET",
        "outputId": "86cc244e-e24b-4209-b13c-4086f326634f"
      },
      "execution_count": null,
      "outputs": [
        {
          "output_type": "execute_result",
          "data": {
            "text/plain": [
              "[7, 2, 1, 0, 4]"
            ]
          },
          "metadata": {},
          "execution_count": 16
        }
      ]
    },
    {
      "cell_type": "code",
      "source": [
        "pred=[np.argmax(i) for i in classification]\n",
        "\n",
        "pred[ :5]"
      ],
      "metadata": {
        "colab": {
          "base_uri": "https://localhost:8080/"
        },
        "id": "fTKC_D6Jri7l",
        "outputId": "65a043b7-fd7d-4c2b-f244-cbe66a67a984"
      },
      "execution_count": null,
      "outputs": [
        {
          "output_type": "execute_result",
          "data": {
            "text/plain": [
              "[7, 2, 1, 0, 4]"
            ]
          },
          "metadata": {},
          "execution_count": 17
        }
      ]
    },
    {
      "cell_type": "code",
      "source": [
        "import math\n",
        "cm=tf.math.confusion_matrix(y_test, y_pred)\n",
        "cm"
      ],
      "metadata": {
        "colab": {
          "base_uri": "https://localhost:8080/"
        },
        "id": "k_PjbpbWri_Z",
        "outputId": "11d5da38-4e3a-4a77-9f1a-a1841967f9b1"
      },
      "execution_count": null,
      "outputs": [
        {
          "output_type": "execute_result",
          "data": {
            "text/plain": [
              "<tf.Tensor: shape=(10, 10), dtype=int32, numpy=\n",
              "array([[ 979,    0,    0,    1,    0,    0,    0,    0,    0,    0],\n",
              "       [   0, 1133,    1,    1,    0,    0,    0,    0,    0,    0],\n",
              "       [   1,    0, 1026,    0,    0,    0,    0,    5,    0,    0],\n",
              "       [   0,    0,    1, 1005,    0,    3,    0,    0,    1,    0],\n",
              "       [   0,    0,    1,    0,  968,    0,    2,    0,    0,   11],\n",
              "       [   0,    0,    0,    6,    0,  883,    1,    1,    0,    1],\n",
              "       [   3,    2,    1,    0,    1,    3,  948,    0,    0,    0],\n",
              "       [   0,    1,    2,    0,    0,    0,    0, 1024,    1,    0],\n",
              "       [   3,    0,    2,    1,    0,    1,    1,    1,  963,    2],\n",
              "       [   1,    0,    0,    0,    1,    6,    0,    3,    0,  998]],\n",
              "      dtype=int32)>"
            ]
          },
          "metadata": {},
          "execution_count": 18
        }
      ]
    },
    {
      "cell_type": "code",
      "source": [
        "import seaborn as sn\n",
        "plt.figure(figsize = (10,7))\n",
        "sn.heatmap(cm, annot=True, fmt='d')\n",
        "plt.xlabel('Predicted')\n",
        "plt.ylabel('Truth')"
      ],
      "metadata": {
        "colab": {
          "base_uri": "https://localhost:8080/",
          "height": 460
        },
        "id": "QF3Qdh6Vrltj",
        "outputId": "095fe407-ce04-4556-f955-738d3e305393"
      },
      "execution_count": null,
      "outputs": [
        {
          "output_type": "execute_result",
          "data": {
            "text/plain": [
              "Text(69.0, 0.5, 'Truth')"
            ]
          },
          "metadata": {},
          "execution_count": 19
        },
        {
          "output_type": "display_data",
          "data": {
            "text/plain": [
              "<Figure size 720x504 with 2 Axes>"
            ],
            "image/png": "[encoded data removed]"
          },
          "metadata": {
            "needs_background": "light"
          }
        }
      ]
    }
  ]
}